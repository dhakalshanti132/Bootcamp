{
  "cells": [
    {
      "cell_type": "markdown",
      "metadata": {
        "id": "view-in-github",
        "colab_type": "text"
      },
      "source": [
        "<a href=\"https://colab.research.google.com/github/dhakalshanti132/Bootcamp/blob/main/Rock_Paper_Scissor_game.ipynb\" target=\"_parent\"><img src=\"https://colab.research.google.com/assets/colab-badge.svg\" alt=\"Open In Colab\"/></a>"
      ]
    },
    {
      "cell_type": "code",
      "execution_count": null,
      "metadata": {
        "id": "poMSpNXX2Hsk"
      },
      "outputs": [],
      "source": [
        "#Program to find the winner of Rock Paper Scissors game between computer and user."
      ]
    },
    {
      "cell_type": "code",
      "execution_count": 1,
      "metadata": {
        "colab": {
          "base_uri": "https://localhost:8080/"
        },
        "id": "-jfnf56cyMBP",
        "outputId": "08cf9362-d765-4fcf-dd5f-9cf372ebfc0d"
      },
      "outputs": [
        {
          "output_type": "stream",
          "name": "stdout",
          "text": [
            "Please enter the choice from 'Rock','Paper','Scissors' \n",
            "Rock\n",
            "You lose! Paper covers Rock\n",
            "Please enter the choice from 'Rock','Paper','Scissors' \n",
            "Paper\n",
            "You lose! Scissors cut Paper\n",
            "Please enter the choice from 'Rock','Paper','Scissors' \n",
            "Scissors\n",
            "Tie!\n",
            "Please enter the choice from 'Rock','Paper','Scissors' \n",
            "Paper\n",
            "You lose! Scissors cut Paper\n",
            "Please enter the choice from 'Rock','Paper','Scissors' \n",
            "Scissors\n",
            "Tie!\n",
            "Please enter the choice from 'Rock','Paper','Scissors' \n",
            "Rock\n",
            "You win! Rock smashes Scissors\n"
          ]
        }
      ],
      "source": [
        "# between computer and user\n",
        "# rock, paper , sci.... \n",
        "# if input varies ask user again for correct input\n",
        "# game goes on until user wins\n",
        "# scior < rock\n",
        "# rock < paper\n",
        "# paper < scior\n",
        "\n",
        "import random\n",
        "computer_inputs=[\"Rock\",\"Paper\",\"Scissors\"]\n",
        "user_win=False\n",
        "\n",
        "while user_win==False:\n",
        "  computer = random.choice(computer_inputs)\n",
        "  player=input(\"Please enter the choice from 'Rock','Paper','Scissors' \\n\")\n",
        "  if player.lower() == computer.lower():\n",
        "        print(\"Tie!\")\n",
        "  elif player.lower() == \"Rock\".lower():\n",
        "      if computer.lower() == \"Paper\".lower():\n",
        "          print(\"You lose!\", computer, \"covers\", player)\n",
        "      else:\n",
        "          print(\"You win!\", player, \"smashes\", computer)\n",
        "          user_win=True\n",
        "  elif player.lower() == \"Paper\".lower():\n",
        "      if computer.lower() == \"Scissors\".lower():\n",
        "          print(\"You lose!\", computer, \"cut\", player)\n",
        "      else:\n",
        "          print(\"You win!\", player, \"covers\", computer)\n",
        "          user_win=True\n",
        "  elif player.lower() == \"Scissors\".lower():\n",
        "      if computer.lower() == \"Rock\".lower():\n",
        "          print(\"You lose!\", computer, \"smashes\", player)\n",
        "      else:\n",
        "          print(\"You win!\", player, \"cut\", computer)\n",
        "          user_win=True\n",
        "  else:\n",
        "      print(\"That's not a valid play. Check your spelling!\")\n"
      ]
    },
    {
      "cell_type": "code",
      "source": [],
      "metadata": {
        "id": "PNqggpw8Hv3o"
      },
      "execution_count": null,
      "outputs": []
    },
    {
      "cell_type": "code",
      "source": [],
      "metadata": {
        "id": "gtp9zq06HwNs"
      },
      "execution_count": null,
      "outputs": []
    }
  ],
  "metadata": {
    "colab": {
      "provenance": [],
      "authorship_tag": "ABX9TyMfqIMTICThnE8+ksakY6oN",
      "include_colab_link": true
    },
    "kernelspec": {
      "display_name": "Python 3",
      "name": "python3"
    },
    "language_info": {
      "name": "python"
    }
  },
  "nbformat": 4,
  "nbformat_minor": 0
}